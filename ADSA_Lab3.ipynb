{
 "cells": [
  {
   "cell_type": "code",
   "execution_count": 4,
   "id": "52ea5c27-c6eb-4e40-966c-7f1980ded11f",
   "metadata": {},
   "outputs": [
    {
     "name": "stdout",
     "output_type": "stream",
     "text": [
      "Action 'Satya' performed.\n",
      "Action 'Sai' performed.\n",
      "Action 'Nandini' performed.\n",
      "\n",
      "--- Current State ---\n",
      "Undo Stack: ['Satya', 'Sai', 'Nandini']\n",
      "Redo Stack: []\n",
      "---------------------\n",
      "\n",
      "Undo: 'Nandini'\n",
      "Undo: 'Sai'\n",
      "\n",
      "--- Current State ---\n",
      "Undo Stack: ['Satya']\n",
      "Redo Stack: ['Nandini', 'Sai']\n",
      "---------------------\n",
      "\n",
      "Redo: 'Sai'\n",
      "\n",
      "--- Current State ---\n",
      "Undo Stack: ['Satya', 'Sai']\n",
      "Redo Stack: ['Nandini']\n",
      "---------------------\n",
      "\n"
     ]
    }
   ],
   "source": [
    "\n",
    "class UndoRedoSystem:\n",
    "    def __init__(self):\n",
    "        self.undo_stack = []   \n",
    "        self.redo_stack = []   \n",
    "\n",
    "    def push(self, action):\n",
    "        self.undo_stack.append(action)\n",
    "        self.redo_stack.clear() \n",
    "        print(f\"Action '{action}' performed.\")\n",
    "\n",
    " \n",
    "    def undo(self):\n",
    "        if not self.undo_stack:\n",
    "            print(\"No action to undo!\")\n",
    "        else:\n",
    "            action = self.undo_stack.pop()\n",
    "            self.redo_stack.append(action)\n",
    "            print(f\"Undo: '{action}'\")\n",
    "\n",
    "\n",
    "    def redo(self):\n",
    "        if not self.redo_stack:\n",
    "            print(\"No action to redo!\")\n",
    "        else:\n",
    "            action = self.redo_stack.pop()\n",
    "            self.undo_stack.append(action)\n",
    "            print(f\"Redo: '{action}'\")\n",
    "\n",
    "\n",
    "    def display(self):\n",
    "        print(\"\\n--- Current State ---\")\n",
    "        print(\"Undo Stack:\", self.undo_stack)\n",
    "        print(\"Redo Stack:\", self.redo_stack)\n",
    "        print(\"---------------------\\n\")\n",
    "\n",
    "\n",
    "\n",
    "if __name__ == \"__main__\":\n",
    "    system = UndoRedoSystem()\n",
    "\n",
    "    # Sample Input/Output from slide\n",
    "    system.push(\"Satya\")\n",
    "    system.push(\"Sai\")\n",
    "    system.push(\"Nandini\")\n",
    "    system.display()\n",
    "\n",
    "    system.undo()\n",
    "    system.undo()\n",
    "    system.display()\n",
    "\n",
    "    system.redo()\n",
    "    system.display()"
   ]
  }
 ],
 "metadata": {
  "kernelspec": {
   "display_name": "Python 3 (ipykernel)",
   "language": "python",
   "name": "python3"
  },
  "language_info": {
   "codemirror_mode": {
    "name": "ipython",
    "version": 3
   },
   "file_extension": ".py",
   "mimetype": "text/x-python",
   "name": "python",
   "nbconvert_exporter": "python",
   "pygments_lexer": "ipython3",
   "version": "3.13.5"
  }
 },
 "nbformat": 4,
 "nbformat_minor": 5
}
