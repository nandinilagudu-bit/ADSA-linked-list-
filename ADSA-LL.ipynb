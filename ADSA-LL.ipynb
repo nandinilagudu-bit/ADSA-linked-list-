{
 "cells": [
  {
   "cell_type": "code",
   "execution_count": 2,
   "id": "05be3ed8-4c6b-4513-bd2b-4c05630a94e8",
   "metadata": {},
   "outputs": [],
   "source": [
    "# Class to represent a patient node\n",
    "class Patient:\n",
    "    def __init__(self, name, age, patient_id):\n",
    "        self.name = name\n",
    "        self.age = age\n",
    "        self.patient_id = patient_id\n",
    "        self.next = None\n",
    "\n",
    "\n",
    "# Class to manage the linked list of patients\n",
    "class PatientList:\n",
    "    def __init__(self):\n",
    "        self.head = None\n",
    "\n",
    "    # Add a new patient at the end of the list\n",
    "    def add_patient(self, name, age, patient_id):\n",
    "        new_patient = Patient(name, age, patient_id)\n",
    "\n",
    "        if not self.head:\n",
    "            self.head = new_patient\n",
    "        else:\n",
    "            current = self.head\n",
    "            while current.next:\n",
    "                current = current.next\n",
    "            current.next = new_patient\n",
    "\n",
    "        print(f\"\\n✅ Patient '{name}' (ID: {patient_id}) added successfully.\")\n",
    "\n",
    "    # Display all patient details\n",
    "    def show_patients(self):\n",
    "        if not self.head:\n",
    "            print(\"\\nNo patients available.\")\n",
    "            return\n",
    "\n",
    "        print(\"\\n--- Patient Details ---\")\n",
    "        current = self.head\n",
    "        while current:\n",
    "            print(f\"Name: {current.name}, Age: {current.age}, ID: {current.patient_id}\")\n",
    "            current = current.next\n",
    "\n",
    "    # Remove a patient by their ID\n",
    "    def remove_patient(self, patient_id):\n",
    "        if not self.head:\n",
    "            print(\"\\nNo patients to delete.\")\n",
    "            return\n",
    "\n",
    "        if self.head.patient_id == patient_id:\n",
    "            self.head = self.head.next\n",
    "            print(f\"\\n✅ Patient with ID {patient_id} deleted successfully.\")\n",
    "            return\n",
    "\n",
    "        prev = None\n",
    "        current = self.head\n",
    "        while current and current.patient_id != patient_id:\n",
    "            prev = current\n",
    "            current = current.next\n",
    "\n",
    "        if not current:\n",
    "            print(f\"\\n❌ Patient with ID {patient_id} not found.\")\n",
    "            return\n",
    "\n",
    "        prev.next = current.next\n",
    "        print(f\"\\n✅ Patient with ID {patient_id} deleted successfully.\")\n"
   ]
  },
  {
   "cell_type": "code",
   "execution_count": 3,
   "id": "7d884667-61cc-42e8-ba42-c4bcd3af6a99",
   "metadata": {},
   "outputs": [],
   "source": [
    "# Create the linked list object\n",
    "patients = PatientList()\n"
   ]
  },
  {
   "cell_type": "code",
   "execution_count": 4,
   "id": "b5e73d46-51da-4d7f-8d04-1b729650fa09",
   "metadata": {},
   "outputs": [
    {
     "name": "stdout",
     "output_type": "stream",
     "text": [
      "\n",
      "✅ Patient 'John' (ID: 101) added successfully.\n",
      "\n",
      "✅ Patient 'Alice' (ID: 102) added successfully.\n"
     ]
    }
   ],
   "source": [
    "patients.add_patient(\"John\", 30, 101)\n",
    "patients.add_patient(\"Alice\", 25, 102)\n"
   ]
  },
  {
   "cell_type": "code",
   "execution_count": 5,
   "id": "12efabed-72c6-4511-9fde-b3f5cf77337d",
   "metadata": {},
   "outputs": [
    {
     "name": "stdout",
     "output_type": "stream",
     "text": [
      "\n",
      "--- Patient Details ---\n",
      "Name: John, Age: 30, ID: 101\n",
      "Name: Alice, Age: 25, ID: 102\n"
     ]
    }
   ],
   "source": [
    "patients.show_patients()\n"
   ]
  },
  {
   "cell_type": "code",
   "execution_count": 6,
   "id": "a5137206-286f-4229-bf0b-fb295eb9778c",
   "metadata": {},
   "outputs": [
    {
     "name": "stdout",
     "output_type": "stream",
     "text": [
      "\n",
      "✅ Patient with ID 101 deleted successfully.\n",
      "\n",
      "--- Patient Details ---\n",
      "Name: Alice, Age: 25, ID: 102\n"
     ]
    }
   ],
   "source": [
    "patients.remove_patient(101)\n",
    "patients.show_patients()\n"
   ]
  },
  {
   "cell_type": "code",
   "execution_count": null,
   "id": "75bcf050-22dd-42b6-98d6-f9ae7fa66747",
   "metadata": {},
   "outputs": [],
   "source": []
  }
 ],
 "metadata": {
  "kernelspec": {
   "display_name": "Python 3 (ipykernel)",
   "language": "python",
   "name": "python3"
  },
  "language_info": {
   "codemirror_mode": {
    "name": "ipython",
    "version": 3
   },
   "file_extension": ".py",
   "mimetype": "text/x-python",
   "name": "python",
   "nbconvert_exporter": "python",
   "pygments_lexer": "ipython3",
   "version": "3.13.5"
  }
 },
 "nbformat": 4,
 "nbformat_minor": 5
}
